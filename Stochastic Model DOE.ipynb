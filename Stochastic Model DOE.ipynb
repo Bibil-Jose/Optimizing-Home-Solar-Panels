{
 "cells": [
  {
   "cell_type": "code",
   "execution_count": 1,
   "id": "c860d5c9",
   "metadata": {},
   "outputs": [],
   "source": [
    "import numpy as np\n",
    "import random"
   ]
  },
  {
   "cell_type": "code",
   "execution_count": null,
   "id": "3d2a210f",
   "metadata": {},
   "outputs": [],
   "source": [
    "import numpy as np\n",
    "\n",
    "# Define the design factors and their levels\n",
    "panel_orientations = [\"North\", \"South\", \"East\", \"West\"]\n",
    "tilt_angles = [0, 15, 30]\n",
    "solar_cell_types = [\"Monocrystalline\", \"Polycrystalline\"]\n",
    "\n",
    "# Define the constant factors\n",
    "geographical_location = \"Tempe, Arizona\"\n",
    "panel_dimension = \"80x40 inches\"\n",
    "\n",
    "# Additional factors\n",
    "single_inverter_efficiency = 0.92  # Example value for inverter efficiency\n",
    "single_battery_storage_efficiency = 0.90  # Example value for battery storage efficiency\n",
    "dust_levels = [\"Low\", \"Medium\", \"High\"]  # Example values for dust levels\n",
    "shading_levels = [\"None\", \"Partial\", \"Full\"]  # Example values for shading levels\n",
    "\n",
    "# Define the function to simulate the solar PV project\n",
    "def simulate_solar_pv_project(panel_orientation, tilt_angle, solar_cell_type, inverter_efficiency, battery_storage_efficiency, dust_level, shading_level):\n",
    "    # Calculate the base energy production\n",
    "    base_energy_production = 100  # watts\n",
    "\n",
    "    # Apply the effects of design factors\n",
    "    energy_production = base_energy_production\n",
    "\n",
    "    # Panel orientation\n",
    "    if panel_orientation == \"North\":\n",
    "        energy_production *= 0.8\n",
    "    elif panel_orientation == \"South\":\n",
    "        energy_production *= 1.2\n",
    "\n",
    "    # Tilt angle\n",
    "    if tilt_angle == 15:\n",
    "        energy_production *= 1.1\n",
    "    elif tilt_angle == 30:\n",
    "        energy_production *= 1.2\n",
    "\n",
    "    # Solar cell type\n",
    "    if solar_cell_type == \"Monocrystalline\":\n",
    "        energy_production *= 1.1\n",
    "\n",
    "    # Apply the effects of additional factors\n",
    "    energy_production *= inverter_efficiency\n",
    "    energy_production *= battery_storage_efficiency\n",
    "\n",
    "    # Apply the effects of dust and dirt\n",
    "    if dust_level == \"Low\":\n",
    "        energy_production *= 1.05\n",
    "    elif dust_level == \"Medium\":\n",
    "        energy_production *= 1.02\n",
    "    # High dust levels do not have additional effects in this example\n",
    "\n",
    "    # Apply the effects of shading\n",
    "    if shading_level == \"Partial\":\n",
    "        energy_production *= 0.9\n",
    "    elif shading_level == \"Full\":\n",
    "        energy_production *= 0.7\n",
    "\n",
    "    return energy_production\n",
    "\n",
    "# Simulate the solar PV project for different combinations of factors\n",
    "simulation_results = []\n",
    "\n",
    "# Iterate over all combinations of factors\n",
    "for panel_orientation in panel_orientations:\n",
    "    for tilt_angle in tilt_angles:\n",
    "        for solar_cell_type in solar_cell_types:\n",
    "            for dust_level in dust_levels:\n",
    "                for shading_level in shading_levels:\n",
    "                    # Simulate the solar PV project\n",
    "                    energy_production = simulate_solar_pv_project(panel_orientation, tilt_angle, solar_cell_type, single_inverter_efficiency, single_battery_storage_efficiency, dust_level, shading_level)\n",
    "                    \n",
    "                    # Append the results to the list\n",
    "                    simulation_results.append((panel_orientation, tilt_angle, solar_cell_type, single_inverter_efficiency, single_battery_storage_efficiency, dust_level, shading_level, energy_production))\n",
    "\n",
    "# Print the simulation results\n",
    "for result in simulation_results:\n",
    "    print(result)\n"
   ]
  },
  {
   "cell_type": "code",
   "execution_count": 3,
   "id": "487c08f7",
   "metadata": {},
   "outputs": [],
   "source": [
    "import matplotlib.pyplot as plt\n",
    "import seaborn as sns\n",
    "import pandas as pd\n",
    "\n",
    "columns = [\"Panel Orientation\", \"Tilt Angle\", \"Solar Cell Type\", \"Weather Condition\", \"Shading\", \"Inverter Efficiency\", \"Battery Storage Efficiency\", \"Dust Level\", \"Energy Production\"]\n",
    "df = pd.DataFrame(simulation_results, columns=columns)\n"
   ]
  },
  {
   "cell_type": "code",
   "execution_count": null,
   "id": "eb11124a",
   "metadata": {},
   "outputs": [],
   "source": [
    "plt.figure(figsize=(12, 6))\n",
    "sns.barplot(x=\"Panel Orientation\", y=\"Energy Production\", hue=\"Tilt Angle\", data=df, ci=None)\n",
    "plt.title(\"Energy Production by Panel Orientation and Tilt Angle\")\n",
    "plt.xlabel(\"Panel Orientation\")\n",
    "plt.ylabel(\"Energy Production\")\n",
    "plt.legend(title=\"Tilt Angle\")\n",
    "plt.show()\n"
   ]
  },
  {
   "cell_type": "code",
   "execution_count": null,
   "id": "fd7c84f7",
   "metadata": {},
   "outputs": [],
   "source": [
    "pivot_weather_shading = df.pivot_table(index=\"Weather Condition\", columns=\"Shading\", values=\"Energy Production\", aggfunc=np.mean)\n",
    "plt.figure(figsize=(10, 6))\n",
    "sns.heatmap(pivot_weather_shading, annot=True, cmap=\"YlGnBu\", fmt=\".2f\")\n",
    "plt.title(\"Energy Production Heatmap by Weather Condition and Shading\")\n",
    "plt.xlabel(\"Shading\")\n",
    "plt.ylabel(\"Weather Condition\")\n",
    "plt.show()\n"
   ]
  },
  {
   "cell_type": "code",
   "execution_count": null,
   "id": "b6fb4c28",
   "metadata": {},
   "outputs": [],
   "source": [
    "plt.figure(figsize=(10, 6))\n",
    "sns.boxplot(x=\"Inverter Efficiency\", y=\"Energy Production\", data=df, width=0.5)\n",
    "plt.title(\"Energy Production by Inverter Efficiency\")\n",
    "plt.xlabel(\"Inverter Efficiency\")\n",
    "plt.ylabel(\"Energy Production\")\n",
    "plt.show()\n"
   ]
  },
  {
   "cell_type": "code",
   "execution_count": null,
   "id": "25175e6b",
   "metadata": {},
   "outputs": [],
   "source": [
    "plt.figure(figsize=(10, 6))\n",
    "sns.boxplot(x=\"Battery Storage Efficiency\", y=\"Energy Production\", data=df, width=0.5)\n",
    "plt.title(\"Energy Production by Battery Storage Efficiency\")\n",
    "plt.xlabel(\"Battery Storage Efficiency\")\n",
    "plt.ylabel(\"Energy Production\")\n",
    "plt.show()\n"
   ]
  },
  {
   "cell_type": "code",
   "execution_count": 8,
   "id": "4a099bdf",
   "metadata": {},
   "outputs": [],
   "source": [
    "df.to_csv('simulation_results.csv', index=False)"
   ]
  },
  {
   "cell_type": "code",
   "execution_count": null,
   "id": "fe4081ec",
   "metadata": {},
   "outputs": [],
   "source": []
  }
 ],
 "metadata": {
  "kernelspec": {
   "display_name": "Python 3 (ipykernel)",
   "language": "python",
   "name": "python3"
  },
  "language_info": {
   "codemirror_mode": {
    "name": "ipython",
    "version": 3
   },
   "file_extension": ".py",
   "mimetype": "text/x-python",
   "name": "python",
   "nbconvert_exporter": "python",
   "pygments_lexer": "ipython3",
   "version": "3.11.5"
  }
 },
 "nbformat": 4,
 "nbformat_minor": 5
}
